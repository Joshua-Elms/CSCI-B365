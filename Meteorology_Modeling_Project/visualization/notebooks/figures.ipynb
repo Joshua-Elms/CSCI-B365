{
 "cells": [
  {
   "cell_type": "markdown",
   "metadata": {},
   "source": [
    "## Plot Ideas\n",
    "-------------\n",
    "\n",
    "* QQ Normal Plot to see if Hailstone Sizes are normally distributed\n",
    "    * If not normal, then find a distribution that does fit it (maybe something log normal?)\n",
    "    * Generate plot that demonstrates this\n",
    "\n",
    "* Histograms for some of the variables, especially Hailstone Sizes and maybe heatmaps with some other ones?\n",
    "\n",
    "* For all duplicates, see how far apart the actual variables are; worth using three times as much information for little benefit?\n",
    "    * Do this maybe with... stacked histograms / line plot / something else? \n",
    "    * Calculate mean of duplicate variables, is that a better indicator, or should use closest to mean variable?\n",
    "\n",
    "* Correlation matrix for the data, make it real pretty like, consider whether we neeeeed all these variables or can PCA/SVM/LASSO to reduce dimensionality\n",
    "\n",
    "* Scale data maybe? \n",
    "\n",
    "* Boxplots to see about spread and central tendency, maybe even two dimensional versions or facet grid"
   ]
  },
  {
   "cell_type": "code",
   "execution_count": 42,
   "metadata": {},
   "outputs": [],
   "source": [
    "import matplotlib.pyplot as plt\n",
    "import seaborn as sns\n",
    "import pandas as pd\n",
    "import numpy as np\n",
    "from math import floor\n",
    "import statsmodels.api as sm\n",
    "from mpl_toolkits.axes_grid1 import make_axes_locatable\n",
    "\n"
   ]
  },
  {
   "cell_type": "code",
   "execution_count": 24,
   "metadata": {},
   "outputs": [],
   "source": [
    "%matplotlib qt\n",
    "rng = np.random.default_rng(100)\n",
    "font = {'family' : 'DIN Condensed',\n",
    "        'weight' : 'bold',\n",
    "        'size'   : \"25\"}\n"
   ]
  },
  {
   "cell_type": "code",
   "execution_count": 3,
   "metadata": {},
   "outputs": [
    {
     "data": {
      "text/html": [
       "<div>\n",
       "<style scoped>\n",
       "    .dataframe tbody tr th:only-of-type {\n",
       "        vertical-align: middle;\n",
       "    }\n",
       "\n",
       "    .dataframe tbody tr th {\n",
       "        vertical-align: top;\n",
       "    }\n",
       "\n",
       "    .dataframe thead th {\n",
       "        text-align: right;\n",
       "    }\n",
       "</style>\n",
       "<table border=\"1\" class=\"dataframe\">\n",
       "  <thead>\n",
       "    <tr style=\"text-align: right;\">\n",
       "      <th></th>\n",
       "      <th>ML CAPE</th>\n",
       "      <th>MU CAPE</th>\n",
       "      <th>SB CAPE</th>\n",
       "    </tr>\n",
       "  </thead>\n",
       "  <tbody>\n",
       "    <tr>\n",
       "      <th>ML CAPE</th>\n",
       "      <td>1.000000</td>\n",
       "      <td>0.926460</td>\n",
       "      <td>0.879841</td>\n",
       "    </tr>\n",
       "    <tr>\n",
       "      <th>MU CAPE</th>\n",
       "      <td>0.926460</td>\n",
       "      <td>1.000000</td>\n",
       "      <td>0.943481</td>\n",
       "    </tr>\n",
       "    <tr>\n",
       "      <th>SB CAPE</th>\n",
       "      <td>0.879841</td>\n",
       "      <td>0.943481</td>\n",
       "      <td>1.000000</td>\n",
       "    </tr>\n",
       "  </tbody>\n",
       "</table>\n",
       "</div>"
      ],
      "text/plain": [
       "          ML CAPE   MU CAPE   SB CAPE\n",
       "ML CAPE  1.000000  0.926460  0.879841\n",
       "MU CAPE  0.926460  1.000000  0.943481\n",
       "SB CAPE  0.879841  0.943481  1.000000"
      ]
     },
     "execution_count": 3,
     "metadata": {},
     "output_type": "execute_result"
    }
   ],
   "source": [
    "path = \"/Users/joshuaelms/Desktop/github_repos/CSCI-B365/Meteorology_Modeling_Project/data/pretty_data.csv\"\n",
    "\n",
    "df = pd.read_csv(path, index_col=0)\n",
    "df.index += 1\n",
    "df.iloc[:, [0, 10, 20]].corr()"
   ]
  },
  {
   "cell_type": "code",
   "execution_count": 16,
   "metadata": {},
   "outputs": [],
   "source": [
    "plt.clf()\n",
    "# plt.rcParams[\"font.family\"] = \"Party LET\"\n",
    "plt.rc(\"font\", **font)\n",
    "\n",
    "x = [1, 2, 3, 4]\n",
    "y = [10, 8, 6, 4]\n",
    "\n",
    "fig, [ax1, ax2] = plt.subplots(2, 1)\n",
    "\n",
    "sns.set_theme()\n",
    "plt.suptitle(\"The Quick Brown Fox Jumped Over the Lazy Dog\", family=\"Marker Felt\")\n",
    "sns.pointplot(x=y, y=x, ax=ax1)\n",
    "sns.pointplot(x=x, y=y, ax=ax2)\n",
    "ax1.set_xlabel(\"Testing\")\n",
    "plt.show()"
   ]
  },
  {
   "cell_type": "code",
   "execution_count": 77,
   "metadata": {},
   "outputs": [
    {
     "name": "stderr",
     "output_type": "stream",
     "text": [
      "/var/folders/95/7xkz0c3d73z_7dvzl3nvx1g80000gn/T/ipykernel_44859/2861048494.py:16: UserWarning: Glyph 8722 (\\N{MINUS SIGN}) missing from current font.\n",
      "  plt.tight_layout()\n",
      "/Users/joshuaelms/.virtualenvs/rising_sun/lib/python3.10/site-packages/ipykernel/eventloops.py:105: UserWarning: Glyph 8722 (\\N{MINUS SIGN}) missing from current font.\n",
      "  app.exec_()\n"
     ]
    }
   ],
   "source": [
    "### Histogram and QQ Norm for Hail Size\n",
    "\n",
    "step = 0.25\n",
    "breaks = [i for i in np.arange(floor(df[\"Hailstone Size\"].min()), df[\"Hailstone Size\"].max() + step, step)]\n",
    "\n",
    "normal = rng.standard_normal(size=df[\"Hailstone Size\"].shape[0])\n",
    "\n",
    "fig, [ax1, ax2] = plt.subplots(nrows=1, ncols=2, sharex=False, sharey=False)\n",
    "fig.patch.set_facecolor(\"xkcd:powder blue\")\n",
    "sns.histplot(data=df, x=\"Hailstone Size\", discrete=True, bins=breaks, ax=ax1)\n",
    "sm.qqplot(data=df[\"Hailstone Size\"], line=\"45\", ax=ax2)\n",
    "ax1.legend([\"Flirst\"])\n",
    "ax2.legend([\"Stuff\", \"More\"])\n",
    "ax1.set_title(\"First\")\n",
    "ax2.set_title(\"Second\")\n",
    "plt.tight_layout()\n",
    "plt.show()"
   ]
  },
  {
   "cell_type": "code",
   "execution_count": 54,
   "metadata": {},
   "outputs": [
    {
     "ename": "TypeError",
     "evalue": "Colorbar.__init__() got an unexpected keyword argument 'vmin'",
     "output_type": "error",
     "traceback": [
      "\u001b[0;31m---------------------------------------------------------------------------\u001b[0m",
      "\u001b[0;31mTypeError\u001b[0m                                 Traceback (most recent call last)",
      "Input \u001b[0;32mIn [54]\u001b[0m, in \u001b[0;36m<cell line: 20>\u001b[0;34m()\u001b[0m\n\u001b[1;32m     17\u001b[0m         cnt\u001b[38;5;241m+\u001b[39m\u001b[38;5;241m=\u001b[39m\u001b[38;5;241m1\u001b[39m\n\u001b[1;32m     19\u001b[0m [item\u001b[38;5;241m.\u001b[39mset_visible(\u001b[38;5;28;01mFalse\u001b[39;00m) \u001b[38;5;28;01mfor\u001b[39;00m item \u001b[38;5;129;01min\u001b[39;00m fig\u001b[38;5;241m.\u001b[39maxes[\u001b[38;5;241m10\u001b[39m:]]\n\u001b[0;32m---> 20\u001b[0m \u001b[43mfig\u001b[49m\u001b[38;5;241;43m.\u001b[39;49m\u001b[43mcolorbar\u001b[49m\u001b[43m(\u001b[49m\u001b[43mim\u001b[49m\u001b[43m,\u001b[49m\u001b[43m \u001b[49m\u001b[43max\u001b[49m\u001b[38;5;241;43m=\u001b[39;49m\u001b[43max_lst\u001b[49m\u001b[43m[\u001b[49m\u001b[43m:\u001b[49m\u001b[43m,\u001b[49m\u001b[38;5;241;43m1\u001b[39;49m\u001b[43m]\u001b[49m\u001b[43m,\u001b[49m\u001b[43m \u001b[49m\u001b[43mcmap\u001b[49m\u001b[38;5;241;43m=\u001b[39;49m\u001b[38;5;124;43m\"\u001b[39;49m\u001b[38;5;124;43mmagma\u001b[39;49m\u001b[38;5;124;43m\"\u001b[39;49m\u001b[43m,\u001b[49m\u001b[43m \u001b[49m\u001b[43mvmin\u001b[49m\u001b[38;5;241;43m=\u001b[39;49m\u001b[38;5;241;43m-\u001b[39;49m\u001b[38;5;241;43m1\u001b[39;49m\u001b[43m,\u001b[49m\u001b[43m \u001b[49m\u001b[43mvmax\u001b[49m\u001b[38;5;241;43m=\u001b[39;49m\u001b[38;5;241;43m1\u001b[39;49m\u001b[43m)\u001b[49m\n\u001b[1;32m     22\u001b[0m fig\u001b[38;5;241m.\u001b[39msuptitle(\u001b[38;5;124m\"\u001b[39m\u001b[38;5;124mCorrelation Plots for 3 Methods of Calculating 10 Meteorological Metrics\u001b[39m\u001b[38;5;124m\"\u001b[39m)\n\u001b[1;32m     23\u001b[0m fig\u001b[38;5;241m.\u001b[39mpatch\u001b[38;5;241m.\u001b[39mset_facecolor(\u001b[38;5;124m\"\u001b[39m\u001b[38;5;124mxkcd:light grey\u001b[39m\u001b[38;5;124m\"\u001b[39m)\n",
      "File \u001b[0;32m~/.virtualenvs/rising_sun/lib/python3.10/site-packages/matplotlib/figure.py:1158\u001b[0m, in \u001b[0;36mFigureBase.colorbar\u001b[0;34m(self, mappable, cax, ax, use_gridspec, **kw)\u001b[0m\n\u001b[1;32m   1154\u001b[0m NON_COLORBAR_KEYS \u001b[38;5;241m=\u001b[39m [\u001b[38;5;124m'\u001b[39m\u001b[38;5;124mfraction\u001b[39m\u001b[38;5;124m'\u001b[39m, \u001b[38;5;124m'\u001b[39m\u001b[38;5;124mpad\u001b[39m\u001b[38;5;124m'\u001b[39m, \u001b[38;5;124m'\u001b[39m\u001b[38;5;124mshrink\u001b[39m\u001b[38;5;124m'\u001b[39m, \u001b[38;5;124m'\u001b[39m\u001b[38;5;124maspect\u001b[39m\u001b[38;5;124m'\u001b[39m, \u001b[38;5;124m'\u001b[39m\u001b[38;5;124manchor\u001b[39m\u001b[38;5;124m'\u001b[39m,\n\u001b[1;32m   1155\u001b[0m                      \u001b[38;5;124m'\u001b[39m\u001b[38;5;124mpanchor\u001b[39m\u001b[38;5;124m'\u001b[39m]\n\u001b[1;32m   1156\u001b[0m cb_kw \u001b[38;5;241m=\u001b[39m {k: v \u001b[38;5;28;01mfor\u001b[39;00m k, v \u001b[38;5;129;01min\u001b[39;00m kw\u001b[38;5;241m.\u001b[39mitems() \u001b[38;5;28;01mif\u001b[39;00m k \u001b[38;5;129;01mnot\u001b[39;00m \u001b[38;5;129;01min\u001b[39;00m NON_COLORBAR_KEYS}\n\u001b[0;32m-> 1158\u001b[0m cb \u001b[38;5;241m=\u001b[39m \u001b[43mcbar\u001b[49m\u001b[38;5;241;43m.\u001b[39;49m\u001b[43mColorbar\u001b[49m\u001b[43m(\u001b[49m\u001b[43mcax\u001b[49m\u001b[43m,\u001b[49m\u001b[43m \u001b[49m\u001b[43mmappable\u001b[49m\u001b[43m,\u001b[49m\u001b[43m \u001b[49m\u001b[38;5;241;43m*\u001b[39;49m\u001b[38;5;241;43m*\u001b[39;49m\u001b[43mcb_kw\u001b[49m\u001b[43m)\u001b[49m\n\u001b[1;32m   1160\u001b[0m \u001b[38;5;28;01mif\u001b[39;00m \u001b[38;5;129;01mnot\u001b[39;00m userax:\n\u001b[1;32m   1161\u001b[0m     \u001b[38;5;28mself\u001b[39m\u001b[38;5;241m.\u001b[39msca(current_ax)\n",
      "\u001b[0;31mTypeError\u001b[0m: Colorbar.__init__() got an unexpected keyword argument 'vmin'"
     ]
    }
   ],
   "source": [
    "### Corr plot for ten duplicates\n",
    "plt.clf()\n",
    "plt.rc(\"font\", **font)\n",
    "\n",
    "### group plots by variable; for each variable in the dictionary, generate and display corrplot of various calculation methods for it \n",
    "fig, ax_lst = plt.subplots(nrows=5, ncols=2, figsize=(8, 10))\n",
    "\n",
    "cnt = 0\n",
    "for layer in ax_lst:\n",
    "    for ax in layer:\n",
    "        correlations = df.iloc[:, [cnt, cnt+10, cnt+20]].corr()\n",
    "        title = correlations.columns[0].split()[-1]\n",
    "        im = sns.heatmap(data=correlations, vmin=-1, vmax=1, ax=ax, cmap=\"magma\")\n",
    "        ax.tick_params(axis='x', rotation=0)\n",
    "        ax.tick_params(axis='y', rotation=0)\n",
    "        ax.set_title(title)\n",
    "        cnt+=1\n",
    "\n",
    "[item.set_visible(False) for item in fig.axes[10:]]\n",
    "fig.colorbar(im, ax=ax_lst[:,1], cmap=\"magma\", vmin=-1, vmax=1)\n",
    "\n",
    "fig.suptitle(\"Correlation Plots for 3 Methods of Calculating 10 Meteorological Metrics\")\n",
    "fig.patch.set_facecolor(\"xkcd:light grey\")\n",
    "plt.tight_layout()\n",
    "plt.show()\n"
   ]
  },
  {
   "cell_type": "code",
   "execution_count": 55,
   "metadata": {},
   "outputs": [],
   "source": [
    "### Corr plot overall\n",
    "\n",
    "plt.clf()\n",
    "\n",
    "desired = [i for i in range(20,46)] + [i for i in range(48, 54)]\n",
    "\n",
    "fig, ax1 = plt.subplots()\n",
    "df_corr = df.corr().iloc[desired, desired]\n",
    "\n",
    "sns.heatmap(data=df_corr, vmin=-1, vmax=1, ax=ax1,  xticklabels=1, yticklabels=1)\n",
    "\n",
    "plt.tight_layout()"
   ]
  }
 ],
 "metadata": {
  "interpreter": {
   "hash": "bebecaaf41780d017764b59d9fbf95c0501ae565161cbfe7bdcfa8b1930c3dd6"
  },
  "kernelspec": {
   "display_name": "Python 3.10.2 ('rising_sun')",
   "language": "python",
   "name": "python3"
  },
  "language_info": {
   "codemirror_mode": {
    "name": "ipython",
    "version": 3
   },
   "file_extension": ".py",
   "mimetype": "text/x-python",
   "name": "python",
   "nbconvert_exporter": "python",
   "pygments_lexer": "ipython3",
   "version": "3.10.2"
  },
  "orig_nbformat": 4
 },
 "nbformat": 4,
 "nbformat_minor": 2
}
