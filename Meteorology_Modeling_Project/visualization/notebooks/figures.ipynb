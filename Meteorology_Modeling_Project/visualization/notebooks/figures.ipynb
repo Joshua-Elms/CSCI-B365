{
 "cells": [
  {
   "cell_type": "markdown",
   "metadata": {},
   "source": [
    "## Plot Ideas\n",
    "-------------\n",
    "\n",
    "* QQ Normal Plot to see if Hailstone Sizes are normally distributed\n",
    "    * If not normal, then find a distribution that does fit it (maybe something log normal?)\n",
    "    * Generate plot that demonstrates this\n",
    "\n",
    "* Histograms for some of the variables, especially Hailstone Sizes and maybe heatmaps with some other ones?\n",
    "\n",
    "* For all duplicates, see how far apart the actual variables are; worth using three times as much information for little benefit?\n",
    "    * Do this maybe with... stacked histograms / line plot / something else? \n",
    "    * Calculate mean of duplicate variables, is that a better indicator, or should use closest to mean variable?\n",
    "\n",
    "* Correlation matrix for the data, make it real pretty like, consider whether we neeeeed all these variables or can PCA/SVM/LASSO to reduce dimensionality\n",
    "\n",
    "* Scale data maybe? \n",
    "\n",
    "* Boxplots to see about spread and central tendency, maybe even two dimensional versions or facet grid"
   ]
  },
  {
   "cell_type": "code",
   "execution_count": 1,
   "metadata": {},
   "outputs": [],
   "source": [
    "import matplotlib.pyplot as plt\n",
    "import seaborn as sns\n",
    "import pandas as pd\n",
    "import numpy as np\n",
    "import statsmodels.api as sm\n",
    "import scipy.stats as ss\n",
    "from math import floor\n",
    "from matplotlib import colors\n",
    "from fitter import Fitter, get_common_distributions, get_distributions"
   ]
  },
  {
   "cell_type": "code",
   "execution_count": 107,
   "metadata": {},
   "outputs": [],
   "source": [
    "%matplotlib qt\n",
    "rng = np.random.default_rng(100)\n",
    "\n",
    "SMALL_SIZE = 14\n",
    "MEDIUM_SIZE = 18\n",
    "BIGGER_SIZE = 26\n",
    "CHONK_SIZE = 32\n",
    "font = {'family' : 'DIN Condensed',\n",
    "        'weight' : 'bold',\n",
    "        'size'   : SMALL_SIZE}\n",
    "plt.rc('font', **font)\n",
    "plt.rc('axes', titlesize=BIGGER_SIZE, labelsize=MEDIUM_SIZE, facecolor=\"xkcd:light grey\")\n",
    "plt.rc('xtick', labelsize=SMALL_SIZE)    # fontsize of the tick labels\n",
    "plt.rc('ytick', labelsize=SMALL_SIZE)    # fontsize of the tick labels\n",
    "plt.rc('legend', fontsize=SMALL_SIZE)    # legend fontsize\n",
    "plt.rc('figure', titlesize=CHONK_SIZE, facecolor=\"xkcd:ice blue\", edgecolor=\"xkcd:black\") #  powder blue\n",
    "\n",
    "# set the font globally\n",
    "# plt.rcParams.update({'font.family':'DIN Condensed', \"font\"})\n",
    "path = \"/Users/joshuaelms/Desktop/github_repos/CSCI-B365/Meteorology_Modeling_Project/data/pretty_data.csv\"\n",
    "df = pd.read_csv(path, index_col=0)\n",
    "df.index += 1"
   ]
  },
  {
   "cell_type": "code",
   "execution_count": 66,
   "metadata": {},
   "outputs": [
    {
     "name": "stdout",
     "output_type": "stream",
     "text": [
      "          sumsquare_error          aic            bic  kl_div\n",
      "gennorm         22.303990  1061.334522 -208740.992995     inf\n",
      "dgamma          27.932897  1090.954331 -202191.893056     inf\n",
      "dweibull        38.602452   774.316469 -192777.084374     inf\n",
      "cauchy          40.289411   833.865428 -191542.586505     inf\n",
      "\n",
      "We will use the distribution with the lowest sum of squares error, the generalised normal distribution.\n",
      "{'gennorm': {'beta': 0.47774409138777574, 'loc': 1.0, 'scale': 0.028076214758935215}}\n"
     ]
    }
   ],
   "source": [
    "# Fitter to find best distribution \n",
    "hail = df[\"Hailstone Size\"].to_numpy()\n",
    "\n",
    "distributions_to_check = [\"gennorm\", \"dgamma\", \"dweibull\", \"cauchy\"]\n",
    "f = Fitter(hail, distributions=distributions_to_check)\n",
    "\n",
    "f.fit()\n",
    "print(f.summary())\n",
    "print(\"\\nWe will use the distribution with the lowest sum of squares error, the generalised normal distribution.\")\n",
    "print(f.get_best(method = \"sumsquare_error\"))"
   ]
  },
  {
   "cell_type": "code",
   "execution_count": 67,
   "metadata": {},
   "outputs": [],
   "source": [
    "# Plotting qq gennorm distribution for hailstone size\n",
    "# SSE = 22.30399, which is the lowest sum of squares error of all the distributions tested.\n",
    "\n",
    "\n",
    "# sumsquare_error\taic\tbic\tkl_div\n",
    "# gennorm\t22.303990\t1061.334522\t-208740.992995\tinf\n",
    "# dgamma\t27.932897\t1090.954331\t-202191.893056\tinf\n",
    "# dweibull\t38.602452\t774.316469\t-192777.084374\tinf\n",
    "# cauchy\t40.289411\t833.865428\t-191542.586505\tinf\n",
    "# foldcauchy\t40.686649\t778.275503\t-191246.778989\t\n",
    "\n",
    "\n",
    "plt.clf()\n",
    "\n",
    "fig, ax = plt.subplots()\n",
    "ss.probplot(df[\"Hailstone Size\"], sparams=(0.47774409138777574, 1.0, 0.47774409138777574), dist='gennorm', fit=True, plot=ax, rvalue=False)\n",
    "plt.show()\n"
   ]
  },
  {
   "cell_type": "code",
   "execution_count": 106,
   "metadata": {},
   "outputs": [
    {
     "name": "stderr",
     "output_type": "stream",
     "text": [
      "/var/folders/95/7xkz0c3d73z_7dvzl3nvx1g80000gn/T/ipykernel_27175/1135164938.py:19: UserWarning: Attempted to set non-positive bottom ylim on a log-scaled axis.\n",
      "Invalid limit will be ignored.\n",
      "  ax2.set_ylim(bottom=0)\n"
     ]
    },
    {
     "data": {
      "text/plain": [
       "Text(0, 0.5, 'Log(Frequency)')"
      ]
     },
     "execution_count": 106,
     "metadata": {},
     "output_type": "execute_result"
    }
   ],
   "source": [
    "### Standard and Log Histograms of Hailstone Size\n",
    "plt.clf()\n",
    "\n",
    "\n",
    "fig, [ax1, ax2] = plt.subplots(ncols=2)\n",
    "step = 0.25\n",
    "breaks = np.arange(floor(df[\"Hailstone Size\"].min() - step), df[\"Hailstone Size\"].max() + step, step)\n",
    "labs = np.arange(0, df[\"Hailstone Size\"].max() + .5, .5)\n",
    "sns.histplot(data=df, x=\"Hailstone Size\", discrete=False, bins=breaks, ax=ax1)\n",
    "ax1.set_xticks(labs)\n",
    "ax1.set_xticklabels(labs)\n",
    "ax1.set_title(\"Histogram of Hailstone Sizes\")\n",
    "ax1.set_xlabel(\"Hailstone Size in Inches\")\n",
    "ax1.set_ylabel(\"Frequency\")\n",
    "sns.histplot(data=df, x=\"Hailstone Size\", discrete=False, bins=breaks, ax=ax2)\n",
    "ax2.set_yscale(\"log\")\n",
    "ax2.set_xticks(labs)\n",
    "ax2.set_xticklabels(labs)\n",
    "ax2.set_ylim(bottom=0)\n",
    "ax2.set_title(\"Histogram of Hailstone Sizes (Log Scale)\")\n",
    "ax2.set_xlabel(\"Hailstone Size in Inches\")\n",
    "ax2.set_ylabel(\"Log(Frequency)\")\n",
    "\n",
    "\n",
    "\n",
    "# sns.displot(data=df, x=\"Hailstone Size\", kind=\"kde\")\n",
    "# ax = plt.gca()\n",
    "# fig = plt.gcf()\n",
    "# fig.patch.set_facecolor(\"xkcd:powder blue\")\n",
    "# ax.legend([\"Flirst\"])\n",
    "# ax.set_title(\"First\")\n",
    "# plt.tight_layout()\n",
    "# plt.show()"
   ]
  },
  {
   "cell_type": "code",
   "execution_count": 104,
   "metadata": {},
   "outputs": [
    {
     "name": "stderr",
     "output_type": "stream",
     "text": [
      "WARNING:matplotlib.font_manager:findfont: Font family ['Comic Sans'] not found. Falling back to DejaVu Sans.\n",
      "WARNING:matplotlib.font_manager:findfont: Font family ['Comic Sans'] not found. Falling back to DejaVu Sans.\n"
     ]
    }
   ],
   "source": [
    "### Corr plot for ten duplicates using pcolormesh\n",
    "plt.clf()\n",
    "\n",
    "### group plots by variable; for each variable in the dictionary, generate and display corrplot of various calculation methods for it \n",
    "fig, ax_lst = plt.subplots(nrows=5, ncols=2, figsize=(10,14))\n",
    "fig.suptitle(\"Correlation Plots for 3 Methods of Calculating 10 Meteorological Metrics\")\n",
    "# fig.patch.set_facecolor(\"xkcd:light grey\")\n",
    "\n",
    "cnt = 0\n",
    "for r, layer in enumerate(ax_lst):\n",
    "    for c, ax in enumerate(layer):\n",
    "        correlations = df.iloc[:, [cnt, cnt+10, cnt+20]].corr()\n",
    "        axis_labels=correlations.columns.values.tolist()\n",
    "        im = ax_lst[r, c].pcolormesh(correlations, norm=colors.Normalize(0, 1), cmap=\"magma\", edgecolor=\"black\", linewidth=0.5)\n",
    "        ticks = [i+0.5 for i in range(len(axis_labels))]\n",
    "        ax.set_xticks(ticks)\n",
    "        ax.invert_yaxis()\n",
    "        ax_lst[r, c].set_xticks(ticks)\n",
    "        ax_lst[r, c].set_xticklabels(axis_labels)\n",
    "        ax_lst[r, c].set_yticks(ticks)\n",
    "        ax_lst[r, c].set_yticklabels(axis_labels)\n",
    "        ax_lst[r, c].grid(which='minor', color='b', linestyle='-', linewidth=2)\n",
    "        cnt+=1\n",
    "\n",
    "shrink_amount = 1.065\n",
    "fig.colorbar(im, ax=ax_lst[:, 0], shrink=shrink_amount) # options are pad, shrink, aspect\n",
    "fig.colorbar(im, ax=ax_lst[:, 1], shrink=shrink_amount)\n",
    "\n",
    "cb1, cb2 = fig.axes[-2], fig.axes[-1]\n",
    "\n",
    "\n",
    "plt.subplots_adjust(\n",
    "    top=0.905,\n",
    "    bottom=0.085,\n",
    "    left=0.14,\n",
    "    right=0.825,\n",
    "    hspace=0.6,\n",
    "    wspace=0.62\n",
    ")\n",
    "\n",
    "plt.show()"
   ]
  },
  {
   "cell_type": "code",
   "execution_count": 58,
   "metadata": {},
   "outputs": [],
   "source": [
    "### Corr plot overall\n",
    "\n",
    "plt.clf()\n",
    "\n",
    "desired = [i for i in range(20,46)] + [i for i in range(48, 54)]\n",
    "\n",
    "fig, ax1 = plt.subplots()\n",
    "df_corr = df.iloc[desired, desired].corr()\n",
    "\n",
    "sns.heatmap(data=df_corr, vmin=-1, vmax=1, ax=ax1,  xticklabels=1, yticklabels=1)\n",
    "\n",
    "plt.tight_layout()"
   ]
  }
 ],
 "metadata": {
  "interpreter": {
   "hash": "bebecaaf41780d017764b59d9fbf95c0501ae565161cbfe7bdcfa8b1930c3dd6"
  },
  "kernelspec": {
   "display_name": "Python 3.10.2 ('rising_sun')",
   "language": "python",
   "name": "python3"
  },
  "language_info": {
   "codemirror_mode": {
    "name": "ipython",
    "version": 3
   },
   "file_extension": ".py",
   "mimetype": "text/x-python",
   "name": "python",
   "nbconvert_exporter": "python",
   "pygments_lexer": "ipython3",
   "version": "3.10.2"
  },
  "orig_nbformat": 4
 },
 "nbformat": 4,
 "nbformat_minor": 2
}
