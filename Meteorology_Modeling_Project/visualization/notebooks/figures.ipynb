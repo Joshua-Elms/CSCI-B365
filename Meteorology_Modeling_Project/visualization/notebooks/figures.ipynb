{
 "cells": [
  {
   "cell_type": "markdown",
   "metadata": {},
   "source": [
    "## Plot Ideas\n",
    "-------------\n",
    "\n",
    "* QQ Normal Plot to see if Hailstone Sizes are normally distributed\n",
    "    * If not normal, then find a distribution that does fit it (maybe something log normal?)\n",
    "    * Generate plot that demonstrates this\n",
    "\n",
    "* Histograms for some of the variables, especially Hailstone Sizes and maybe heatmaps with some other ones?\n",
    "\n",
    "* For all duplicates, see how far apart the actual variables are; worth using three times as much information for little benefit?\n",
    "    * Do this maybe with... stacked histograms / line plot / something else? \n",
    "    * Calculate mean of duplicate variables, is that a better indicator, or should use closest to mean variable?\n",
    "\n",
    "* Correlation matrix for the data, make it real pretty like, consider whether we neeeeed all these variables or can PCA/SVM/LASSO to reduce dimensionality\n",
    "\n",
    "* Scale data maybe? \n",
    "\n",
    "* Boxplots to see about spread and central tendency, maybe even two dimensional versions or facet grid"
   ]
  },
  {
   "cell_type": "code",
   "execution_count": 59,
   "metadata": {},
   "outputs": [],
   "source": [
    "import matplotlib.pyplot as plt\n",
    "import seaborn as sns\n",
    "import pandas as pd\n",
    "import numpy as np\n",
    "from math import floor\n",
    "import statsmodels.api as sm\n",
    "from mpl_toolkits.axes_grid1 import make_axes_locatable\n",
    "from matplotlib import colors\n",
    "\n"
   ]
  },
  {
   "cell_type": "code",
   "execution_count": 135,
   "metadata": {},
   "outputs": [],
   "source": [
    "%matplotlib qt\n",
    "rng = np.random.default_rng(100)\n",
    "font = {'family' : 'DIN Condensed',\n",
    "        'weight' : 'bold',\n",
    "        'size'   : \"20\"}\n"
   ]
  },
  {
   "cell_type": "code",
   "execution_count": 4,
   "metadata": {},
   "outputs": [
    {
     "data": {
      "text/html": [
       "<div>\n",
       "<style scoped>\n",
       "    .dataframe tbody tr th:only-of-type {\n",
       "        vertical-align: middle;\n",
       "    }\n",
       "\n",
       "    .dataframe tbody tr th {\n",
       "        vertical-align: top;\n",
       "    }\n",
       "\n",
       "    .dataframe thead th {\n",
       "        text-align: right;\n",
       "    }\n",
       "</style>\n",
       "<table border=\"1\" class=\"dataframe\">\n",
       "  <thead>\n",
       "    <tr style=\"text-align: right;\">\n",
       "      <th></th>\n",
       "      <th>ML CAPE</th>\n",
       "      <th>MU CAPE</th>\n",
       "      <th>SB CAPE</th>\n",
       "    </tr>\n",
       "  </thead>\n",
       "  <tbody>\n",
       "    <tr>\n",
       "      <th>ML CAPE</th>\n",
       "      <td>1.000000</td>\n",
       "      <td>0.926460</td>\n",
       "      <td>0.879841</td>\n",
       "    </tr>\n",
       "    <tr>\n",
       "      <th>MU CAPE</th>\n",
       "      <td>0.926460</td>\n",
       "      <td>1.000000</td>\n",
       "      <td>0.943481</td>\n",
       "    </tr>\n",
       "    <tr>\n",
       "      <th>SB CAPE</th>\n",
       "      <td>0.879841</td>\n",
       "      <td>0.943481</td>\n",
       "      <td>1.000000</td>\n",
       "    </tr>\n",
       "  </tbody>\n",
       "</table>\n",
       "</div>"
      ],
      "text/plain": [
       "          ML CAPE   MU CAPE   SB CAPE\n",
       "ML CAPE  1.000000  0.926460  0.879841\n",
       "MU CAPE  0.926460  1.000000  0.943481\n",
       "SB CAPE  0.879841  0.943481  1.000000"
      ]
     },
     "execution_count": 4,
     "metadata": {},
     "output_type": "execute_result"
    }
   ],
   "source": [
    "path = \"/Users/joshuaelms/Desktop/github_repos/CSCI-B365/Meteorology_Modeling_Project/data/pretty_data.csv\"\n",
    "\n",
    "df = pd.read_csv(path, index_col=0)\n",
    "df.index += 1\n",
    "df.iloc[:, [0, 10, 20]].corr()"
   ]
  },
  {
   "cell_type": "code",
   "execution_count": 16,
   "metadata": {},
   "outputs": [],
   "source": [
    "plt.clf()\n",
    "# plt.rcParams[\"font.family\"] = \"Party LET\"\n",
    "plt.rc(\"font\", **font)\n",
    "\n",
    "x = [1, 2, 3, 4]\n",
    "y = [10, 8, 6, 4]\n",
    "\n",
    "fig, [ax1, ax2] = plt.subplots(2, 1)\n",
    "\n",
    "sns.set_theme()\n",
    "plt.suptitle(\"The Quick Brown Fox Jumped Over the Lazy Dog\", family=\"Marker Felt\")\n",
    "sns.pointplot(x=y, y=x, ax=ax1)\n",
    "sns.pointplot(x=x, y=y, ax=ax2)\n",
    "ax1.set_xlabel(\"Testing\")\n",
    "plt.show()"
   ]
  },
  {
   "cell_type": "code",
   "execution_count": 77,
   "metadata": {},
   "outputs": [
    {
     "name": "stderr",
     "output_type": "stream",
     "text": [
      "/var/folders/95/7xkz0c3d73z_7dvzl3nvx1g80000gn/T/ipykernel_44859/2861048494.py:16: UserWarning: Glyph 8722 (\\N{MINUS SIGN}) missing from current font.\n",
      "  plt.tight_layout()\n",
      "/Users/joshuaelms/.virtualenvs/rising_sun/lib/python3.10/site-packages/ipykernel/eventloops.py:105: UserWarning: Glyph 8722 (\\N{MINUS SIGN}) missing from current font.\n",
      "  app.exec_()\n"
     ]
    }
   ],
   "source": [
    "### Histogram and QQ Norm for Hail Size\n",
    "\n",
    "step = 0.25\n",
    "breaks = [i for i in np.arange(floor(df[\"Hailstone Size\"].min()), df[\"Hailstone Size\"].max() + step, step)]\n",
    "\n",
    "normal = rng.standard_normal(size=df[\"Hailstone Size\"].shape[0])\n",
    "\n",
    "fig, [ax1, ax2] = plt.subplots(nrows=1, ncols=2, sharex=False, sharey=False)\n",
    "fig.patch.set_facecolor(\"xkcd:powder blue\")\n",
    "sns.histplot(data=df, x=\"Hailstone Size\", discrete=True, bins=breaks, ax=ax1)\n",
    "sm.qqplot(data=df[\"Hailstone Size\"], line=\"45\", ax=ax2)\n",
    "ax1.legend([\"Flirst\"])\n",
    "ax2.legend([\"Stuff\", \"More\"])\n",
    "ax1.set_title(\"First\")\n",
    "ax2.set_title(\"Second\")\n",
    "plt.tight_layout()\n",
    "plt.show()"
   ]
  },
  {
   "cell_type": "code",
   "execution_count": null,
   "metadata": {},
   "outputs": [],
   "source": [
    "### Corr plot for ten duplicates\n",
    "plt.clf()\n",
    "plt.rc(\"font\", **font)\n",
    "\n",
    "### group plots by variable; for each variable in the dictionary, generate and display corrplot of various calculation methods for it \n",
    "fig, ax_lst = plt.subplots(nrows=5, ncols=2, figsize=(6, 10))\n",
    "\n",
    "cnt = 0\n",
    "for layer in ax_lst:\n",
    "    for ax in layer:\n",
    "        correlations = df.iloc[:, [cnt, cnt+10, cnt+20]].corr()\n",
    "        title = correlations.columns[0].split()[-1]\n",
    "        sns.heatmap(data=correlations, vmin=-1, vmax=1, ax=ax, cmap=\"magma\", cbar=True)\n",
    "        ax.tick_params(axis='x', rotation=0)\n",
    "        ax.tick_params(axis='y', rotation=0)\n",
    "        ax.set_title(title)\n",
    "        im = ax.collections[0]\n",
    "        cnt+=1\n",
    "\n",
    "[item.set_visible(False) for item in fig.axes[10:]]\n",
    "fig.colorbar(im, ax=ax_lst[:,1], pad=-0.3)\n",
    "fig.colorbar(im, ax=ax_lst[:,0], pad=-0.3)\n",
    "\n",
    "fig.suptitle(\"Correlation Plots for 3 Methods of Calculating 10 Meteorological Metrics\", size=22)\n",
    "fig.patch.set_facecolor(\"xkcd:light grey\")\n",
    "plt.tight_layout()\n",
    "plt.show()\n"
   ]
  },
  {
   "cell_type": "code",
   "execution_count": 90,
   "metadata": {},
   "outputs": [
    {
     "ename": "AttributeError",
     "evalue": "module 'matplotlib.pyplot' has no attribute 'constrained_layout'",
     "output_type": "error",
     "traceback": [
      "\u001b[0;31m---------------------------------------------------------------------------\u001b[0m",
      "\u001b[0;31mAttributeError\u001b[0m                            Traceback (most recent call last)",
      "Input \u001b[0;32mIn [90]\u001b[0m, in \u001b[0;36m<cell line: 32>\u001b[0;34m()\u001b[0m\n\u001b[1;32m     30\u001b[0m fig\u001b[38;5;241m.\u001b[39msuptitle(\u001b[38;5;124m\"\u001b[39m\u001b[38;5;124mCorrelation Plots for 3 Methods of Calculating 10 Meteorological Metrics\u001b[39m\u001b[38;5;124m\"\u001b[39m, size\u001b[38;5;241m=\u001b[39m\u001b[38;5;241m15\u001b[39m)\n\u001b[1;32m     31\u001b[0m fig\u001b[38;5;241m.\u001b[39mpatch\u001b[38;5;241m.\u001b[39mset_facecolor(\u001b[38;5;124m\"\u001b[39m\u001b[38;5;124mxkcd:light grey\u001b[39m\u001b[38;5;124m\"\u001b[39m)\n\u001b[0;32m---> 32\u001b[0m \u001b[43mplt\u001b[49m\u001b[38;5;241;43m.\u001b[39;49m\u001b[43mconstrained_layout\u001b[49m()\n\u001b[1;32m     33\u001b[0m plt\u001b[38;5;241m.\u001b[39msubplots_adjust(bottom\u001b[38;5;241m=\u001b[39m\u001b[38;5;241m0.07\u001b[39m, top\u001b[38;5;241m=\u001b[39m\u001b[38;5;241m0.91\u001b[39m, hspace\u001b[38;5;241m=\u001b[39m\u001b[38;5;241m1\u001b[39m)\n\u001b[1;32m     34\u001b[0m plt\u001b[38;5;241m.\u001b[39mshow()\n",
      "\u001b[0;31mAttributeError\u001b[0m: module 'matplotlib.pyplot' has no attribute 'constrained_layout'"
     ]
    }
   ],
   "source": [
    "### Corr plot for ten duplicates DUPLICATED\n",
    "plt.clf()\n",
    "plt.rc(\"font\", **font)\n",
    "\n",
    "### group plots by variable; for each variable in the dictionary, generate and display corrplot of various calculation methods for it \n",
    "fig, ax_lst = plt.subplots(nrows=5, ncols=4, figsize=(4,6), gridspec_kw={\"width_ratios\": [1, 0.1, 1, 0.1]})\n",
    "\n",
    "cnt = 0\n",
    "for r, layer in enumerate(ax_lst):\n",
    "    for c, ax in enumerate(layer):\n",
    "        if c==0 or c==2:\n",
    "            correlations = df.iloc[:, [cnt, cnt+10, cnt+20]].corr()\n",
    "            title = correlations.columns[0].split()[-1]\n",
    "            # ax.imshow(correlations, cmap=\"magma\", vmin=0, vmax=1)\n",
    "            sns.heatmap(data=correlations, vmin=0, vmax=1, ax=ax, cmap=\"magma\", cbar=False, yticklabels=1)\n",
    "            ax.tick_params(axis='x', rotation=0)\n",
    "            ax.tick_params(axis='y', rotation=0)\n",
    "            # ax.set_title(title)\n",
    "            cnt+=1\n",
    "\n",
    "# [item.set_visible(False) for item in fig.axes[10:]]\n",
    "im = ax_lst[0, 0].collections[0]\n",
    "\n",
    "fig.colorbar(im, cax=ax_lst[2, 1], pad=1)\n",
    "fig.colorbar(im, cax=ax_lst[2, 3], pad=1)\n",
    "for r in (0, 1, 3, 4):\n",
    "    for c in (1, 3):\n",
    "        ax_lst[r, c].clear()\n",
    "\n",
    "fig.suptitle(\"Correlation Plots for 3 Methods of Calculating 10 Meteorological Metrics\", size=15)\n",
    "fig.patch.set_facecolor(\"xkcd:light grey\")\n",
    "plt.constrained_layout()\n",
    "plt.subplots_adjust(bottom=0.07, top=0.91, hspace=1)\n",
    "plt.show()"
   ]
  },
  {
   "cell_type": "code",
   "execution_count": 152,
   "metadata": {},
   "outputs": [
    {
     "name": "stdout",
     "output_type": "stream",
     "text": [
      "          ML CIN    MU CIN\n",
      "ML CIN  1.000000  0.445111\n",
      "MU CIN  0.445111  1.000000\n"
     ]
    },
    {
     "ename": "AttributeError",
     "evalue": "module 'matplotlib.pyplot' has no attribute 'constrained_layout'",
     "output_type": "error",
     "traceback": [
      "\u001b[0;31m---------------------------------------------------------------------------\u001b[0m",
      "\u001b[0;31mAttributeError\u001b[0m                            Traceback (most recent call last)",
      "Input \u001b[0;32mIn [152]\u001b[0m, in \u001b[0;36m<cell line: 38>\u001b[0;34m()\u001b[0m\n\u001b[1;32m     35\u001b[0m \u001b[38;5;28mprint\u001b[39m(df[[\u001b[38;5;124m\"\u001b[39m\u001b[38;5;124mML CIN\u001b[39m\u001b[38;5;124m\"\u001b[39m, \u001b[38;5;124m\"\u001b[39m\u001b[38;5;124mMU CIN\u001b[39m\u001b[38;5;124m\"\u001b[39m]]\u001b[38;5;241m.\u001b[39mcorr())\n\u001b[1;32m     37\u001b[0m \u001b[38;5;66;03m# plt.tight_layout()\u001b[39;00m\n\u001b[0;32m---> 38\u001b[0m \u001b[43mplt\u001b[49m\u001b[38;5;241;43m.\u001b[39;49m\u001b[43mconstrained_layout\u001b[49m()\n\u001b[1;32m     39\u001b[0m \u001b[38;5;66;03m# plt.subplots_adjust(left=0, right=1, wspace=1, hspace=1)\u001b[39;00m\n\u001b[1;32m     40\u001b[0m plt\u001b[38;5;241m.\u001b[39mshow()\n",
      "\u001b[0;31mAttributeError\u001b[0m: module 'matplotlib.pyplot' has no attribute 'constrained_layout'"
     ]
    }
   ],
   "source": [
    "### Corr plot for ten duplicates DUPLICATED... AGAIN\n",
    "plt.clf()\n",
    "plt.rc(\"font\", **font)\n",
    "\n",
    "### group plots by variable; for each variable in the dictionary, generate and display corrplot of various calculation methods for it \n",
    "fig, ax_lst = plt.subplots(nrows=5, ncols=2, figsize=(10,14)) #, gridspec_kw={\"width_ratios\": [1, 0.1, 1, 0.1]})\n",
    "fig.suptitle(\"Correlation Plots for 3 Methods of Calculating 10 Meteorological Metrics\", size=20)\n",
    "fig.patch.set_facecolor(\"xkcd:light grey\")\n",
    "\n",
    "cnt = 0\n",
    "for r, layer in enumerate(ax_lst):\n",
    "    for c, ax in enumerate(layer):\n",
    "        # if c==0 or c==2:\n",
    "        correlations = df.iloc[:, [cnt, cnt+10, cnt+20]].corr()\n",
    "        axis_labels=correlations.columns.values.tolist()\n",
    "        im = ax_lst[r, c].matshow(correlations, cmap=\"magma\", norm=colors.Normalize(0, 1), **{\"aspect\": 0.3})\n",
    "        ax_lst[r, c].xaxis.tick_bottom()\n",
    "        ax_lst[r, c].set_xticks(range(len(axis_labels)))\n",
    "        ax_lst[r, c].set_xticklabels(axis_labels, fontsize=14)\n",
    "        ax_lst[r, c].set_yticks(range(len(axis_labels)))\n",
    "        ax_lst[r, c].set_yticklabels(axis_labels, fontsize=14)\n",
    "        cnt+=1\n",
    "\n",
    "shrink_amount = .98\n",
    "fig.colorbar(im, ax=ax_lst[:, 0], shrink=shrink_amount) # options are pad, shrink, aspect\n",
    "fig.colorbar(im, ax=ax_lst[:, 1], shrink=shrink_amount)\n",
    "\n",
    "cb1, cb2 = fig.axes[-2], fig.axes[-1]\n",
    "# cb1.clear()\n",
    "# cb2.clear()\n",
    "\n",
    "cb1.tick_params(labelsize=14)\n",
    "cb2.tick_params(labelsize=14)\n",
    "\n",
    "print(df[[\"ML CIN\", \"MU CIN\"]].corr())\n",
    "\n",
    "# plt.tight_layout()\n",
    "plt.constrained_layout()\n",
    "# plt.subplots_adjust(left=0, right=1, wspace=1, hspace=1)\n",
    "plt.show()"
   ]
  },
  {
   "cell_type": "code",
   "execution_count": 5,
   "metadata": {},
   "outputs": [
    {
     "name": "stdout",
     "output_type": "stream",
     "text": [
      "<matplotlib.collections.QuadMesh object at 0x12c0f91e0>\n"
     ]
    }
   ],
   "source": [
    "### Corr plot overall\n",
    "\n",
    "plt.clf()\n",
    "\n",
    "desired = [i for i in range(20,46)] + [i for i in range(48, 54)]\n",
    "\n",
    "fig, ax1 = plt.subplots()\n",
    "df_corr = df.corr().iloc[desired, desired]\n",
    "\n",
    "sns.heatmap(data=df_corr, vmin=-1, vmax=1, ax=ax1,  xticklabels=1, yticklabels=1)\n",
    "\n",
    "im = ax1.collections[0]\n",
    "\n",
    "print(im)\n",
    "\n",
    "plt.tight_layout()"
   ]
  },
  {
   "cell_type": "code",
   "execution_count": 78,
   "metadata": {},
   "outputs": [
    {
     "name": "stdout",
     "output_type": "stream",
     "text": [
      "['ML CAPE', 'MU CAPE', 'SB CAPE']\n"
     ]
    }
   ],
   "source": [
    "# matplotlib ax plot imshow reprex\n",
    "\n",
    "plt.clf()\n",
    "plt.rc(\"font\", **font)\n",
    "\n",
    "### group plots by variable; for each variable in the dictionary, generate and display corrplot of various calculation methods for it \n",
    "fig, (ax, cax) = plt.subplots(ncols=2, figsize=(6, 10), gridspec_kw={\"width_ratios\":[1, 0.1]})\n",
    "\n",
    "correlations = df.iloc[:, [0, 10, 20]].corr()\n",
    "axis_labels=correlations.columns.values.tolist()\n",
    "im = ax.matshow(correlations, cmap=\"magma\", norm=colors.Normalize(-1, 1))\n",
    "ax.xaxis.tick_bottom()\n",
    "ax.set_xticks(range(len(axis_labels)))\n",
    "ax.set_xticklabels(axis_labels)\n",
    "ax.set_yticks(range(len(axis_labels)))\n",
    "ax.set_yticklabels(axis_labels)\n",
    "fig.colorbar(im, cax=cax, pad=0, shrink=0.5, aspect=20)\n",
    "\n",
    "fig.suptitle(\"Correlation Plots for 3 Methods of Calculating 10 Meteorological Metrics\", size=22)\n",
    "fig.patch.set_facecolor(\"xkcd:light grey\")\n",
    "plt.show()"
   ]
  }
 ],
 "metadata": {
  "interpreter": {
   "hash": "bebecaaf41780d017764b59d9fbf95c0501ae565161cbfe7bdcfa8b1930c3dd6"
  },
  "kernelspec": {
   "display_name": "Python 3.10.2 ('rising_sun')",
   "language": "python",
   "name": "python3"
  },
  "language_info": {
   "codemirror_mode": {
    "name": "ipython",
    "version": 3
   },
   "file_extension": ".py",
   "mimetype": "text/x-python",
   "name": "python",
   "nbconvert_exporter": "python",
   "pygments_lexer": "ipython3",
   "version": "3.10.2"
  },
  "orig_nbformat": 4
 },
 "nbformat": 4,
 "nbformat_minor": 2
}
