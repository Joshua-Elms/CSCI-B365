{
 "cells": [
  {
   "cell_type": "markdown",
   "metadata": {},
   "source": [
    "## Plot Ideas\n",
    "-------------\n",
    "\n",
    "* QQ Normal Plot to see if Hailstone Sizes are normally distributed\n",
    "    * If not normal, then find a distribution that does fit it (maybe something log normal?)\n",
    "    * Generate plot that demonstrates this\n",
    "\n",
    "* Histograms for some of the variables, especially Hailstone Sizes and maybe heatmaps with some other ones?\n",
    "\n",
    "* For all duplicates, see how far apart the actual variables are; worth using three times as much information for little benefit?\n",
    "    * Do this maybe with... stacked histograms / line plot / something else? \n",
    "    * Calculate mean of duplicate variables, is that a better indicator, or should use closest to mean variable?\n",
    "\n",
    "* Correlation matrix for the data, make it real pretty like, consider whether we neeeeed all these variables or can PCA/SVM/LASSO to reduce dimensionality\n",
    "\n",
    "* Scale data maybe? \n",
    "\n",
    "* Boxplots to see about spread and central tendency, maybe even two dimensional versions or facet grid"
   ]
  },
  {
   "cell_type": "code",
   "execution_count": 94,
   "metadata": {},
   "outputs": [],
   "source": [
    "import matplotlib.pyplot as plt\n",
    "import seaborn as sns\n",
    "import pandas as pd\n",
    "import numpy as np\n",
    "import statsmodels.api as sm\n",
    "import scipy.stats as ss\n",
    "from math import floor\n",
    "from matplotlib import colors\n",
    "from fitter import Fitter, get_common_distributions, get_distributions"
   ]
  },
  {
   "cell_type": "code",
   "execution_count": 56,
   "metadata": {},
   "outputs": [],
   "source": [
    "%matplotlib qt\n",
    "rng = np.random.default_rng(100)\n",
    "font = {'family' : 'DIN Condensed',\n",
    "        'weight' : 'bold',\n",
    "        'size'   : \"20\"}\n",
    "\n",
    "path = \"/Users/joshuaelms/Desktop/github_repos/CSCI-B365/Meteorology_Modeling_Project/data/pretty_data.csv\"\n",
    "df = pd.read_csv(path, index_col=0)\n",
    "df.index += 1"
   ]
  },
  {
   "cell_type": "code",
   "execution_count": 93,
   "metadata": {},
   "outputs": [],
   "source": [
    "# QQ Plots for Hail Size (Find the right distribution)\n",
    "\n",
    "plt.clf()\n",
    "\n",
    "samples = df[\"Hailstone Size\"].shape[0]\n",
    "\n",
    "normal = rng.standard_normal(size=samples)\n",
    "\n",
    "s=1\n",
    "x = np.linspace(ss.rayleigh.ppf(0.01, s),\n",
    "                ss.rayleigh.ppf(0.99, s), 1000)\n",
    "plt.plot(x, ss.rayleigh.pdf(x, s),\n",
    "       'r-', lw=5, alpha=0.6, label='lognorm pdf')\n",
    "\n",
    "plt.show()\n"
   ]
  },
  {
   "cell_type": "code",
   "execution_count": 102,
   "metadata": {},
   "outputs": [
    {
     "name": "stderr",
     "output_type": "stream",
     "text": [
      "WARNING:root:SKIPPED dweibull distribution (taking more than 30 seconds)\n",
      "WARNING:root:SKIPPED gennorm distribution (taking more than 30 seconds)\n",
      "WARNING:root:SKIPPED dgamma distribution (taking more than 30 seconds)\n",
      "WARNING:fitter.fitter:dweibull was not fitted. no parameters available\n",
      "WARNING:fitter.fitter:gennorm was not fitted. no parameters available\n",
      "WARNING:fitter.fitter:dgamma was not fitted. no parameters available\n"
     ]
    },
    {
     "data": {
      "text/html": [
       "<div>\n",
       "<style scoped>\n",
       "    .dataframe tbody tr th:only-of-type {\n",
       "        vertical-align: middle;\n",
       "    }\n",
       "\n",
       "    .dataframe tbody tr th {\n",
       "        vertical-align: top;\n",
       "    }\n",
       "\n",
       "    .dataframe thead th {\n",
       "        text-align: right;\n",
       "    }\n",
       "</style>\n",
       "<table border=\"1\" class=\"dataframe\">\n",
       "  <thead>\n",
       "    <tr style=\"text-align: right;\">\n",
       "      <th></th>\n",
       "      <th>sumsquare_error</th>\n",
       "      <th>aic</th>\n",
       "      <th>bic</th>\n",
       "      <th>kl_div</th>\n",
       "    </tr>\n",
       "  </thead>\n",
       "  <tbody>\n",
       "    <tr>\n",
       "      <th>cauchy</th>\n",
       "      <td>40.289411</td>\n",
       "      <td>833.865428</td>\n",
       "      <td>-1.915426e+05</td>\n",
       "      <td>inf</td>\n",
       "    </tr>\n",
       "    <tr>\n",
       "      <th>dweibull</th>\n",
       "      <td>inf</td>\n",
       "      <td>inf</td>\n",
       "      <td>inf</td>\n",
       "      <td>inf</td>\n",
       "    </tr>\n",
       "    <tr>\n",
       "      <th>gennorm</th>\n",
       "      <td>inf</td>\n",
       "      <td>inf</td>\n",
       "      <td>inf</td>\n",
       "      <td>inf</td>\n",
       "    </tr>\n",
       "    <tr>\n",
       "      <th>dgamma</th>\n",
       "      <td>inf</td>\n",
       "      <td>inf</td>\n",
       "      <td>inf</td>\n",
       "      <td>inf</td>\n",
       "    </tr>\n",
       "  </tbody>\n",
       "</table>\n",
       "</div>"
      ],
      "text/plain": [
       "          sumsquare_error         aic           bic  kl_div\n",
       "cauchy          40.289411  833.865428 -1.915426e+05     inf\n",
       "dweibull              inf         inf           inf     inf\n",
       "gennorm               inf         inf           inf     inf\n",
       "dgamma                inf         inf           inf     inf"
      ]
     },
     "execution_count": 102,
     "metadata": {},
     "output_type": "execute_result"
    }
   ],
   "source": [
    "# Fitter to find best distribution \n",
    "hail = df[\"Hailstone Size\"].to_numpy()\n",
    "f = Fitter(hail, \n",
    "           distributions=[\"gennorm\", \"dgamma\", \"dweibull\", \"cauchy\"])\n",
    "\n",
    "\n",
    "distrs = ['gamma','lognorm', \"beta\", \"burr\", \"norm\"]\n",
    "\n",
    "f.fit()\n",
    "\n",
    "f.summary()\n",
    "\n",
    "# f.get_best(method = \"sumsquare_error\")\n",
    "\n"
   ]
  },
  {
   "cell_type": "code",
   "execution_count": null,
   "metadata": {},
   "outputs": [],
   "source": [
    "\n",
    "# sumsquare_error\taic\tbic\tkl_div\n",
    "# gennorm\t22.303990\t1061.334522\t-208740.992995\tinf\n",
    "# dgamma\t27.932897\t1090.954331\t-202191.893056\tinf\n",
    "# dweibull\t38.602452\t774.316469\t-192777.084374\tinf\n",
    "# cauchy\t40.289411\t833.865428\t-191542.586505\tinf\n",
    "# foldcauchy\t40.686649\t778.275503\t-191246.778989\t"
   ]
  },
  {
   "cell_type": "code",
   "execution_count": 59,
   "metadata": {},
   "outputs": [],
   "source": [
    "### Histogram and QQ Norm for Hail Size\n",
    "\n",
    "step = 0.25\n",
    "breaks = [i for i in np.arange(floor(df[\"Hailstone Size\"].min()), df[\"Hailstone Size\"].max() + step, step)]\n",
    "\n",
    "normal = rng.standard_normal(size=df[\"Hailstone Size\"].shape[0])\n",
    "\n",
    "fig, [ax1, ax2] = plt.subplots(nrows=1, ncols=2, sharex=False, sharey=False)\n",
    "fig.patch.set_facecolor(\"xkcd:powder blue\")\n",
    "sns.histplot(data=df, x=\"Hailstone Size\", discrete=True, bins=breaks, ax=ax1)\n",
    "sm.qqplot(data=df[\"Hailstone Size\"], line=\"s\", ax=ax2)\n",
    "ax1.legend([\"Flirst\"])\n",
    "ax2.legend([\"Stuff\", \"More\"])\n",
    "ax1.set_title(\"First\")\n",
    "ax2.set_title(\"Second\")\n",
    "plt.tight_layout()\n",
    "plt.show()"
   ]
  },
  {
   "cell_type": "code",
   "execution_count": 53,
   "metadata": {},
   "outputs": [],
   "source": [
    "### Corr plot for ten duplicates using pcolormesh\n",
    "plt.clf()\n",
    "plt.rc(\"font\", **font)\n",
    "\n",
    "### group plots by variable; for each variable in the dictionary, generate and display corrplot of various calculation methods for it \n",
    "fig, ax_lst = plt.subplots(nrows=5, ncols=2, figsize=(10,14))\n",
    "fig.suptitle(\"Correlation Plots for 3 Methods of Calculating 10 Meteorological Metrics\", size=20)\n",
    "fig.patch.set_facecolor(\"xkcd:light grey\")\n",
    "\n",
    "cnt = 0\n",
    "for r, layer in enumerate(ax_lst):\n",
    "    for c, ax in enumerate(layer):\n",
    "        correlations = df.iloc[:, [cnt, cnt+10, cnt+20]].corr()\n",
    "        axis_labels=correlations.columns.values.tolist()\n",
    "        im = ax_lst[r, c].pcolormesh(correlations, norm=colors.Normalize(0, 1), cmap=\"magma\", edgecolor=\"black\", linewidth=0.5)\n",
    "        ticks = [i+0.5 for i in range(len(axis_labels))]\n",
    "        ax.set_xticks(ticks)\n",
    "        ax.invert_yaxis()\n",
    "        ax_lst[r, c].set_xticks(ticks)\n",
    "        ax_lst[r, c].set_xticklabels(axis_labels, fontsize=14)\n",
    "        ax_lst[r, c].set_yticks(ticks)\n",
    "        ax_lst[r, c].set_yticklabels(axis_labels, fontsize=14)\n",
    "        ax_lst[r, c].grid(which='minor', color='b', linestyle='-', linewidth=2)\n",
    "        cnt+=1\n",
    "\n",
    "shrink_amount = 1.065\n",
    "fig.colorbar(im, ax=ax_lst[:, 0], shrink=shrink_amount) # options are pad, shrink, aspect\n",
    "fig.colorbar(im, ax=ax_lst[:, 1], shrink=shrink_amount)\n",
    "\n",
    "cb1, cb2 = fig.axes[-2], fig.axes[-1]\n",
    "\n",
    "cb1.tick_params(labelsize=14)\n",
    "cb2.tick_params(labelsize=14)\n",
    "\n",
    "plt.subplots_adjust(\n",
    "    top=0.905,\n",
    "    bottom=0.085,\n",
    "    left=0.14,\n",
    "    right=0.825,\n",
    "    hspace=0.6,\n",
    "    wspace=0.62\n",
    ")\n",
    "\n",
    "plt.show()"
   ]
  },
  {
   "cell_type": "code",
   "execution_count": 58,
   "metadata": {},
   "outputs": [],
   "source": [
    "### Corr plot overall\n",
    "\n",
    "plt.clf()\n",
    "\n",
    "desired = [i for i in range(20,46)] + [i for i in range(48, 54)]\n",
    "\n",
    "fig, ax1 = plt.subplots()\n",
    "df_corr = df.iloc[desired, desired].corr()\n",
    "\n",
    "sns.heatmap(data=df_corr, vmin=-1, vmax=1, ax=ax1,  xticklabels=1, yticklabels=1)\n",
    "\n",
    "plt.tight_layout()"
   ]
  }
 ],
 "metadata": {
  "interpreter": {
   "hash": "bebecaaf41780d017764b59d9fbf95c0501ae565161cbfe7bdcfa8b1930c3dd6"
  },
  "kernelspec": {
   "display_name": "Python 3.10.2 ('rising_sun')",
   "language": "python",
   "name": "python3"
  },
  "language_info": {
   "codemirror_mode": {
    "name": "ipython",
    "version": 3
   },
   "file_extension": ".py",
   "mimetype": "text/x-python",
   "name": "python",
   "nbconvert_exporter": "python",
   "pygments_lexer": "ipython3",
   "version": "3.10.2"
  },
  "orig_nbformat": 4
 },
 "nbformat": 4,
 "nbformat_minor": 2
}
