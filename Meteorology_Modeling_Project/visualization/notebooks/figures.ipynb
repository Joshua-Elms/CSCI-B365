{
 "cells": [
  {
   "cell_type": "markdown",
   "metadata": {},
   "source": [
    "## Plot Ideas\n",
    "-------------\n",
    "\n",
    "* QQ Normal Plot to see if Hailstone Sizes are normally distributed\n",
    "    * If not normal, then find a distribution that does fit it (maybe something log normal?)\n",
    "    * Generate plot that demonstrates this\n",
    "\n",
    "* Histograms for some of the variables, especially Hailstone Sizes and maybe heatmaps with some other ones?\n",
    "\n",
    "* For all duplicates, see how far apart the actual variables are; worth using three times as much information for little benefit?\n",
    "    * Do this maybe with... stacked histograms / line plot / something else? \n",
    "    * Calculate mean of duplicate variables, is that a better indicator, or should use closest to mean variable?\n",
    "\n",
    "* Correlation matrix for the data, make it real pretty like, consider whether we neeeeed all these variables or can PCA/SVM/LASSO to reduce dimensionality\n",
    "\n",
    "* Scale data maybe? \n",
    "\n",
    "* Boxplots to see about spread and central tendency, maybe even two dimensional versions or facet grid"
   ]
  },
  {
   "cell_type": "code",
   "execution_count": 1,
   "metadata": {},
   "outputs": [],
   "source": [
    "import matplotlib.pyplot as plt\n",
    "import seaborn as sns\n",
    "import pandas as pd\n",
    "import numpy as np\n",
    "from math import floor\n",
    "import statsmodels.api as sm\n"
   ]
  },
  {
   "cell_type": "code",
   "execution_count": 15,
   "metadata": {},
   "outputs": [],
   "source": [
    "%matplotlib qt\n",
    "rng = np.random.default_rng(100)\n",
    "font = {'family' : 'Comic Sans MS',\n",
    "        'weight' : 'bold',\n",
    "        'size'   : \"40\"}\n"
   ]
  },
  {
   "cell_type": "code",
   "execution_count": 3,
   "metadata": {},
   "outputs": [
    {
     "data": {
      "text/html": [
       "<div>\n",
       "<style scoped>\n",
       "    .dataframe tbody tr th:only-of-type {\n",
       "        vertical-align: middle;\n",
       "    }\n",
       "\n",
       "    .dataframe tbody tr th {\n",
       "        vertical-align: top;\n",
       "    }\n",
       "\n",
       "    .dataframe thead th {\n",
       "        text-align: right;\n",
       "    }\n",
       "</style>\n",
       "<table border=\"1\" class=\"dataframe\">\n",
       "  <thead>\n",
       "    <tr style=\"text-align: right;\">\n",
       "      <th></th>\n",
       "      <th>ML CAPE</th>\n",
       "      <th>MU CAPE</th>\n",
       "      <th>SB CAPE</th>\n",
       "    </tr>\n",
       "  </thead>\n",
       "  <tbody>\n",
       "    <tr>\n",
       "      <th>ML CAPE</th>\n",
       "      <td>1.000000</td>\n",
       "      <td>0.926460</td>\n",
       "      <td>0.879841</td>\n",
       "    </tr>\n",
       "    <tr>\n",
       "      <th>MU CAPE</th>\n",
       "      <td>0.926460</td>\n",
       "      <td>1.000000</td>\n",
       "      <td>0.943481</td>\n",
       "    </tr>\n",
       "    <tr>\n",
       "      <th>SB CAPE</th>\n",
       "      <td>0.879841</td>\n",
       "      <td>0.943481</td>\n",
       "      <td>1.000000</td>\n",
       "    </tr>\n",
       "  </tbody>\n",
       "</table>\n",
       "</div>"
      ],
      "text/plain": [
       "          ML CAPE   MU CAPE   SB CAPE\n",
       "ML CAPE  1.000000  0.926460  0.879841\n",
       "MU CAPE  0.926460  1.000000  0.943481\n",
       "SB CAPE  0.879841  0.943481  1.000000"
      ]
     },
     "execution_count": 3,
     "metadata": {},
     "output_type": "execute_result"
    }
   ],
   "source": [
    "path = \"/Users/joshuaelms/Desktop/github_repos/CSCI-B365/Meteorology_Modeling_Project/data/pretty_data.csv\"\n",
    "\n",
    "df = pd.read_csv(path, index_col=0)\n",
    "df.index += 1\n",
    "df.iloc[:, [0, 10, 20]].corr()"
   ]
  },
  {
   "cell_type": "code",
   "execution_count": 16,
   "metadata": {},
   "outputs": [],
   "source": [
    "plt.clf()\n",
    "# plt.rcParams[\"font.family\"] = \"Party LET\"\n",
    "plt.rc(\"font\", **font)\n",
    "\n",
    "x = [1, 2, 3, 4]\n",
    "y = [10, 8, 6, 4]\n",
    "\n",
    "fig, [ax1, ax2] = plt.subplots(2, 1)\n",
    "\n",
    "sns.set_theme()\n",
    "plt.suptitle(\"The Quick Brown Fox Jumped Over the Lazy Dog\", family=\"Marker Felt\")\n",
    "sns.pointplot(x=y, y=x, ax=ax1)\n",
    "sns.pointplot(x=x, y=y, ax=ax2)\n",
    "ax1.set_xlabel(\"Testing\")\n",
    "plt.show()"
   ]
  },
  {
   "cell_type": "code",
   "execution_count": 77,
   "metadata": {},
   "outputs": [
    {
     "name": "stderr",
     "output_type": "stream",
     "text": [
      "/var/folders/95/7xkz0c3d73z_7dvzl3nvx1g80000gn/T/ipykernel_44859/2861048494.py:16: UserWarning: Glyph 8722 (\\N{MINUS SIGN}) missing from current font.\n",
      "  plt.tight_layout()\n",
      "/Users/joshuaelms/.virtualenvs/rising_sun/lib/python3.10/site-packages/ipykernel/eventloops.py:105: UserWarning: Glyph 8722 (\\N{MINUS SIGN}) missing from current font.\n",
      "  app.exec_()\n"
     ]
    }
   ],
   "source": [
    "### Histogram and QQ Norm for Hail Size\n",
    "\n",
    "step = 0.25\n",
    "breaks = [i for i in np.arange(floor(df[\"Hailstone Size\"].min()), df[\"Hailstone Size\"].max() + step, step)]\n",
    "\n",
    "normal = rng.standard_normal(size=df[\"Hailstone Size\"].shape[0])\n",
    "\n",
    "fig, [ax1, ax2] = plt.subplots(nrows=1, ncols=2, sharex=False, sharey=False)\n",
    "fig.patch.set_facecolor(\"xkcd:powder blue\")\n",
    "sns.histplot(data=df, x=\"Hailstone Size\", discrete=True, bins=breaks, ax=ax1)\n",
    "sm.qqplot(data=df[\"Hailstone Size\"], line=\"45\", ax=ax2)\n",
    "ax1.legend([\"Flirst\"])\n",
    "ax2.legend([\"Stuff\", \"More\"])\n",
    "ax1.set_title(\"First\")\n",
    "ax2.set_title(\"Second\")\n",
    "plt.tight_layout()\n",
    "plt.show()"
   ]
  },
  {
   "cell_type": "code",
   "execution_count": 24,
   "metadata": {},
   "outputs": [],
   "source": [
    "### Corr plot for ten duplicates\n",
    "plt.clf()\n",
    "\n",
    "### group plots by variable; for each variable in the dictionary, generate and display corrplot of various calculation methods for it \n",
    "fig, ax_lst = plt.subplots(nrows=5, ncols=2, figsize=(8, 10))\n",
    "\n",
    "cnt = 0\n",
    "for layer in ax_lst:\n",
    "    for ax in layer:\n",
    "        correlations = df.iloc[:, [cnt, cnt+10, cnt+20]].corr()\n",
    "        title = correlations.columns[0].split()[-1]\n",
    "        sns.heatmap(data=correlations, vmin=-1, vmax=1, ax=ax, cmap=\"magma\")\n",
    "        ax.tick_params(axis='x', rotation=0)\n",
    "        ax.set_title(title)\n",
    "        cnt+=1\n",
    "        \n",
    "fig.suptitle(\"Correlation Plots for 3 Methods of Calculating 10 Meteorological Metrics\")\n",
    "fig.patch.set_facecolor(\"xkcd:light grey\")\n",
    "plt.tight_layout()\n",
    "plt.show()\n"
   ]
  },
  {
   "cell_type": "code",
   "execution_count": 55,
   "metadata": {},
   "outputs": [],
   "source": [
    "### Corr plot overall\n",
    "\n",
    "plt.clf()\n",
    "\n",
    "desired = [i for i in range(20,46)] + [i for i in range(48, 54)]\n",
    "\n",
    "fig, ax1 = plt.subplots()\n",
    "df_corr = df.corr().iloc[desired, desired]\n",
    "\n",
    "sns.heatmap(data=df_corr, vmin=-1, vmax=1, ax=ax1,  xticklabels=1, yticklabels=1)\n",
    "\n",
    "plt.tight_layout()"
   ]
  }
 ],
 "metadata": {
  "interpreter": {
   "hash": "bebecaaf41780d017764b59d9fbf95c0501ae565161cbfe7bdcfa8b1930c3dd6"
  },
  "kernelspec": {
   "display_name": "Python 3.10.2 ('rising_sun')",
   "language": "python",
   "name": "python3"
  },
  "language_info": {
   "codemirror_mode": {
    "name": "ipython",
    "version": 3
   },
   "file_extension": ".py",
   "mimetype": "text/x-python",
   "name": "python",
   "nbconvert_exporter": "python",
   "pygments_lexer": "ipython3",
   "version": "3.10.2"
  },
  "orig_nbformat": 4
 },
 "nbformat": 4,
 "nbformat_minor": 2
}
