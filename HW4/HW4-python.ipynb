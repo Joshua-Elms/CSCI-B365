{
 "cells": [
  {
   "cell_type": "markdown",
   "metadata": {},
   "source": [
    "# Implement the following functions\n",
    "\n",
    "\n",
    "## Distance functions\n",
    "\n",
    "- Euclidean distance\n",
    "- Hamilton distance\n",
    "\n",
    "The distance functions can be passed as arguments"
   ]
  },
  {
   "cell_type": "code",
   "execution_count": null,
   "metadata": {},
   "outputs": [],
   "source": [
    "import numpy as np\n",
    "import pandas as pd\n",
    "import math"
   ]
  },
  {
   "cell_type": "code",
   "execution_count": null,
   "metadata": {},
   "outputs": [],
   "source": [
    "# Euclidean distance\n",
    "def euclidean_distance(x,y):\n",
    "    '''\n",
    "    Fill in code\n",
    "    '''\n",
    "    return "
   ]
  },
  {
   "cell_type": "code",
   "execution_count": null,
   "metadata": {},
   "outputs": [],
   "source": [
    "# Manhattan distance\n",
    "def manhattan_distance(x,y):\n",
    "    '''\n",
    "    Fill in code\n",
    "    '''\n",
    "    return "
   ]
  },
  {
   "cell_type": "markdown",
   "metadata": {},
   "source": [
    "## Random centers\n",
    "\n",
    "- Generate k random initial centers\n",
    "- Each dimension is a random number in range [low, high]\n",
    "- Return the centers"
   ]
  },
  {
   "cell_type": "code",
   "execution_count": null,
   "metadata": {},
   "outputs": [],
   "source": [
    "# Generates k center points, each point has d dimensions and their values range in between 0 and 1\n",
    "# k: number of cluster centers\n",
    "# d: number of dimensions\n",
    "# low, high: range in each dimension\n",
    "\n",
    "def random_centers(k, d, low=0, high=1):\n",
    "    '''\n",
    "    Fill in code\n",
    "    '''\n",
    "    return centers    # return a k by d matrix"
   ]
  },
  {
   "cell_type": "markdown",
   "metadata": {},
   "source": [
    "## Assign centers\n",
    "\n",
    "- Given k centers, assign each data point to its nearest center\n",
    "- Return the predicted labels"
   ]
  },
  {
   "cell_type": "code",
   "execution_count": null,
   "metadata": {},
   "outputs": [],
   "source": [
    "def assign_centers(data, centers, dist_function):\n",
    "    '''\n",
    "    Fill in code\n",
    "    '''\n",
    "    return labels   # return a vector of integer"
   ]
  },
  {
   "cell_type": "markdown",
   "metadata": {},
   "source": [
    "## Recalculate centers\n",
    "\n",
    "- Now each data point has its assignment to its nearest centers\n",
    "- We need group the same-cluer dat points to calculate a new center\n",
    "- Return the new centers"
   ]
  },
  {
   "cell_type": "code",
   "execution_count": null,
   "metadata": {},
   "outputs": [],
   "source": [
    "def recalculate_centers(data, labels, k):\n",
    "    '''\n",
    "    Fill in code\n",
    "    '''\n",
    "\n",
    "    return centers"
   ]
  },
  {
   "cell_type": "markdown",
   "metadata": {},
   "source": [
    "## Cost function\n",
    "\n",
    "- Given the data points and their cluster assignments\n",
    "- Calculate the total cost"
   ]
  },
  {
   "cell_type": "code",
   "execution_count": null,
   "metadata": {},
   "outputs": [],
   "source": [
    "def compute_cost(data, labels, centers, dist_function):\n",
    "    '''\n",
    "    Fill in code\n",
    "    '''\n",
    "    return cost"
   ]
  },
  {
   "cell_type": "markdown",
   "metadata": {},
   "source": [
    "# Combine the previous implementations\n",
    "\n",
    "## Main function\n",
    "\n",
    "This function is provided so you may use it directly"
   ]
  },
  {
   "cell_type": "code",
   "execution_count": null,
   "metadata": {},
   "outputs": [],
   "source": [
    "def kmeans(data, dist_function, k, THRESHOLD=0.001, low=0, high=1):\n",
    "    num_data, dimensions = data.shape\n",
    "    centers = random_centers(k, dimensions, low, high)\n",
    "    \n",
    "    cost_difference = 10^6\n",
    "    labels = np.zeros(num_data).astype(int)\n",
    "    old_cost = compute_cost(data, labels, centers, dist_function)\n",
    "    while cost_difference > THRESHOLD:\n",
    "        labels = assign_centers(data, centers, dist_function)\n",
    "        centers = recalculate_centers(data, labels, k)\n",
    "\n",
    "        new_cost = compute_cost(data, labels, centers, dist_function)\n",
    "        cost_difference = abs(new_cost - old_cost)\n",
    "        old_cost = new_cost\n",
    "    return centers, labels"
   ]
  },
  {
   "cell_type": "markdown",
   "metadata": {},
   "source": [
    "# Helper function\n",
    "\n",
    "## Evaluation\n",
    "\n",
    "Implementation assumptions:\n",
    "\n",
    "- We assume data, centers of type matrix. Each row represent a data point / center.\n",
    "- We assume label of type vector."
   ]
  },
  {
   "cell_type": "code",
   "execution_count": null,
   "metadata": {},
   "outputs": [],
   "source": [
    "import math\n",
    "\n",
    "# Given predicted centers, predicted labels, true centers and true labels\n",
    "# finds a mapping between predicted labels and actual labels\n",
    "# and returns the number of true predictions and their percentage\n",
    "\n",
    "def evaluation(data, pred_centers, pred_labels, true_labels, dist_function=euclidean_distance):\n",
    "    # The predicted centers and actual centers may not match\n",
    "    # The center we label as i can be equal to a different index j in the actual centers and labels\n",
    "    # Therefore we need to do a mapping, so that we can calculate the accuracy.\n",
    "    mapping = {}\n",
    "    k = pred_centers.shape[0]\n",
    "    K = len(np.unique(true_labels))\n",
    "    \n",
    "    true_centers = recalculate_centers(data, true_labels, K)\n",
    "    # To achieve a mapping, simply try to find which center actually belongs to which cluster\n",
    "    # by mapping predicted centers to true centers, based on the distance.\n",
    "    for c in range(k):\n",
    "        # Distance off predicted center to true center\n",
    "        min_dist = math.inf\n",
    "        idx = c\n",
    "        for tc in range(K) :\n",
    "            dist = dist_function(pred_centers[c], true_centers[tc])\n",
    "            if min_dist > dist:\n",
    "                min_dist = dist\n",
    "                idx = tc\n",
    "        mapping[c] = idx\n",
    "        \n",
    "    accurate_points = 0\n",
    "    for i in range(len(pred_labels)):\n",
    "        # Get the actual cluster label\n",
    "        mapped_value = mapping[pred_labels[i]]\n",
    "        if mapped_value == true_labels[i]:\n",
    "            accurate_points += 1\n",
    "            \n",
    "    accuracy = accurate_points/len(pred_labels)\n",
    "    print(\"Accuracy is \" + str(accuracy*100) + \"%\")\n",
    "    return accuracy"
   ]
  },
  {
   "cell_type": "markdown",
   "metadata": {},
   "source": [
    "# Running examples\n",
    "\n",
    "## Synthetic dataset\n",
    "\n",
    "No need to normailze the dataset."
   ]
  },
  {
   "cell_type": "code",
   "execution_count": null,
   "metadata": {},
   "outputs": [],
   "source": [
    "import pandas as pd\n",
    "\n",
    "# We use numpy array to represent our data\n",
    "\n",
    "syn = pd.read_csv(\"synthetic.data\")\n",
    "# minus 1 to map labels [1,2,3] tp [0,1,2]\n",
    "syn_labels = syn[\"class\"].to_numpy().astype(int) - 1\n",
    "syn_data = syn.drop(\"class\", 1).to_numpy()"
   ]
  },
  {
   "cell_type": "markdown",
   "metadata": {},
   "source": [
    "## Wine dataset\n",
    "\n",
    "### Data process\n"
   ]
  },
  {
   "cell_type": "code",
   "execution_count": null,
   "metadata": {},
   "outputs": [],
   "source": [
    "mydata = pd.read_csv(\"wine.data\")\n",
    "true_labels = mydata[\"class\"].to_numpy().astype(int) - 1\n",
    "data = mydata.drop(\"class\", 1)\n",
    "# data normalization\n",
    "data=(data-data.mean())/data.std()\n",
    "data = data.to_numpy()"
   ]
  },
  {
   "cell_type": "markdown",
   "metadata": {},
   "source": [
    "### Sample code to run kmeans"
   ]
  },
  {
   "cell_type": "code",
   "execution_count": null,
   "metadata": {},
   "outputs": [],
   "source": [
    "pred_centers, pred_labels = kmeans(data, dist_function=euclidean_distance, k=3)"
   ]
  },
  {
   "cell_type": "code",
   "execution_count": null,
   "metadata": {},
   "outputs": [],
   "source": [
    "evaluation(data, pred_centers, pred_labels, true_labels, dist_function=euclidean_distance)"
   ]
  },
  {
   "cell_type": "code",
   "execution_count": null,
   "metadata": {},
   "outputs": [],
   "source": []
  }
 ],
 "metadata": {
  "kernelspec": {
   "display_name": "Python [conda env:sci_computing] *",
   "language": "python",
   "name": "conda-env-sci_computing-py"
  },
  "language_info": {
   "codemirror_mode": {
    "name": "ipython",
    "version": 3
   },
   "file_extension": ".py",
   "mimetype": "text/x-python",
   "name": "python",
   "nbconvert_exporter": "python",
   "pygments_lexer": "ipython3",
   "version": "3.7.3"
  }
 },
 "nbformat": 4,
 "nbformat_minor": 2
}
